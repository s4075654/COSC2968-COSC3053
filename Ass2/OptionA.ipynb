{
 "cells": [
  {
   "cell_type": "markdown",
   "id": "ba8e2e1f-eef7-4f74-97a7-bcfe9db97ed6",
   "metadata": {
    "collapsed": false
   },
   "source": [
    "Student name: Vo Huy Chu  \n",
    "Student ID: s4075654\n",
    "# Assignment 2 - OPTION A (PROGRAMMING):\n",
    "## Classical AI"
   ]
  },
  {
   "cell_type": "markdown",
   "id": "00f8be9d-c777-4b8e-a48c-c4015f8dad2d",
   "metadata": {
    "collapsed": false
   },
   "source": [
    "### 1. Map Representation:\n",
    "    The data structure to represent the city map can be a 2D list where each element represents a cell (0 for empty space, 1 for obstacle), as seen in the code cell below, along with the starting location of the drone (variable `starting_location`) and the delivery locations for each flight (variable `delivery_locations`):"
   ]
  },
  {
   "cell_type": "code",
   "execution_count": 1,
   "id": "ea466e93-2502-4fe7-bfe4-023a044e75f7",
   "metadata": {
    "collapsed": false
   },
   "outputs": [],
   "source": [
    "#City maps for testing (two-dimensional list for each map):\n",
    "city_maps = [\n",
    "    [0, 0, 0, 0, 1],\n",
    "    [1, 1, 0, 1, 0],\n",
    "    [0, 0, 0, 1, 0],\n",
    "    [0, 1, 1, 0, 0],\n",
    "    [0, 0, 0, 0, 0]\n",
    "], [\n",
    "    [0, 1, 0, 0, 0, 0, 0, 0, 0, 1],\n",
    "    [0, 1, 0, 1, 0, 0, 1, 1, 1, 0],\n",
    "    [0, 0, 0, 1, 0, 0, 0, 0, 1, 0],\n",
    "    [0, 1, 1, 0, 0, 0, 1, 0, 1, 0],\n",
    "    [0, 0, 0, 0, 0, 0, 1, 0, 1, 0],\n",
    "    [0, 1, 0, 1, 0, 0, 1, 1, 0, 0],\n",
    "    [0, 1, 0, 1, 0, 0, 0, 0, 1, 0],\n",
    "    [0, 0, 0, 1, 0, 1, 1, 0, 1, 0],\n",
    "    [0, 1, 1, 1, 0, 0, 1, 0, 0, 0],\n",
    "    [0, 1, 0, 1, 0, 0, 1, 0, 1, 0]\n",
    "], [\n",
    "    [0, 0, 0, 0, 0, 0, 0, 0, 0, 1, 0, 1, 0, 1, 0, 0, 1, 0, 1, 0],\n",
    "    [1, 1, 0, 1, 0, 0, 1, 1, 1, 0, 0, 1, 1, 1, 0, 0, 1, 0, 0, 0],\n",
    "    [0, 0, 0, 1, 0, 0, 0, 0, 1, 0, 0, 0, 0, 1, 0, 1, 1, 0, 1, 0],\n",
    "    [0, 1, 1, 0, 0, 0, 1, 0, 1, 0, 0, 1, 0, 1, 0, 0, 0, 0, 1, 0],\n",
    "    [0, 0, 0, 0, 0, 0, 1, 0, 1, 0, 0, 1, 0, 1, 0, 0, 1, 1, 0, 0],\n",
    "    [0, 1, 0, 1, 0, 0, 1, 1, 0, 0, 0, 0, 0, 0, 0, 0, 1, 0, 1, 0],\n",
    "    [0, 1, 0, 1, 0, 0, 0, 0, 1, 0, 0, 1, 1, 0, 0, 0, 1, 0, 1, 0],\n",
    "    [0, 0, 0, 1, 0, 1, 1, 0, 1, 0, 0, 0, 0, 1, 0, 0, 0, 0, 1, 0],\n",
    "    [0, 1, 1, 1, 0, 0, 1, 0, 0, 0, 1, 1, 0, 1, 0, 0, 1, 1, 1, 0],\n",
    "    [0, 1, 0, 1, 0, 0, 1, 0, 1, 0, 0, 1, 0, 0, 0, 0, 0, 0, 0, 1],\n",
    "    [0, 1, 1, 1, 0, 0, 1, 0, 0, 0, 1, 1, 0, 1, 0, 0, 1, 1, 1, 0],\n",
    "    [0, 0, 0, 1, 0, 1, 1, 0, 1, 0, 0, 0, 0, 1, 0, 0, 0, 0, 1, 0],\n",
    "    [0, 1, 0, 1, 0, 0, 1, 1, 0, 0, 0, 0, 0, 0, 0, 0, 1, 0, 1, 0],\n",
    "    [0, 1, 1, 0, 0, 0, 1, 0, 1, 0, 0, 1, 0, 1, 0, 0, 0, 0, 1, 0],\n",
    "    [0, 0, 0, 1, 0, 0, 0, 0, 1, 0, 0, 0, 0, 1, 0, 1, 1, 0, 1, 0],\n",
    "    [1, 1, 0, 1, 0, 0, 1, 1, 1, 0, 0, 1, 1, 1, 0, 0, 1, 0, 0, 0],\n",
    "    [0, 1, 0, 0, 0, 0, 0, 0, 0, 1, 0, 1, 0, 1, 0, 0, 1, 0, 1, 0],\n",
    "    [0, 1, 0, 0, 0, 0, 0, 0, 0, 1, 0, 1, 0, 1, 0, 0, 1, 0, 1, 0],\n",
    "    [1, 1, 0, 1, 0, 0, 1, 1, 1, 0, 0, 1, 1, 1, 0, 0, 1, 0, 0, 0],\n",
    "    [0, 1, 0, 1, 0, 0, 1, 0, 1, 0, 0, 1, 0, 0, 0, 0, 0, 0, 0, 1]\n",
    "]\n",
    "#The current location of the drone, initially [0, 0]:\n",
    "last_location = [0, 0]\n",
    "#The delivery locations for each flight for city map, portrayed by nested tuples for each city map to model the immutability of the scenario:\n",
    "delivery_locations = (((3, 3), (4, 2), (1, 0)), ((9, 7), (6, 8), (5, 5)), ((13, 11), (14, 14), (10, 12)))"
   ]
  },
  {
   "cell_type": "markdown",
   "id": "79b69f16-9597-450d-ac68-4a98d825edeb",
   "metadata": {
    "collapsed": false
   },
   "source": [
    "### 2. Heuristic Functions:\n",
    "There are many types of distances that can be utilized to implement a heuristic function such as Euclidean distance, Manhattan distance, Minkowski distance or Chebyshev distance.\n",
    "#### Manhattan distance:\n",
    "    The Manhattan heuristic utilizes the Manhattan distance to get an estimate of the distance left from the current position to the goal. This distance is the sum of the absolute differences of their coordinates.\n",
    "\n",
    "##### Formula: $D_M(p, q) = sum(|p_x - q_x|, |p_y - q_y|)$\n",
    "    Components of the formula above:\n",
    "+ $D_M$: The Manhattan distance between the 2 points $p$ and $q$.\n",
    "+ $p_x$: First coordinate of point $p$.\n",
    "+ $p_y$: Second coordinate of point $p$.\n",
    "+ $q_x$: First coordinate of point $q$.\n",
    "+ $q_y$: Second coordinate of point $q$.\n",
    "##### Use case:\n",
    "    Grid maps in which there are no other types of movements beyond horizontal and vertical.\n",
    "##### Benefits:\n",
    "    Easy and can be quickly implemented as its formula only consists of simple mathematical operations (addition, subtraction and the absolute value operation)\n",
    "##### Drawbacks:\n",
    "1. Does not account for diagonal or other forms of movements, this may lead to inefficient path-finding where diagonal movements are available.\n",
    "2. Not appropriate for non-grid environments where movements are continuous and not block-by-block."
   ]
  },
  {
   "cell_type": "code",
   "execution_count": 2,
   "id": "78c08027-437d-4cdd-b0fc-24081d90bded",
   "metadata": {
    "collapsed": false
   },
   "outputs": [
    {
     "data": {
      "text/plain": [
       "'\\nabs() :A Python function that returns the absolute value\\n'"
      ]
     },
     "execution_count": 2,
     "metadata": {},
     "output_type": "execute_result"
    }
   ],
   "source": [
    "\"\"\"\n",
    "current_location :The current location of the drone\n",
    "goal :The destination the drone is trying to reach\n",
    "result :The value that the heuristic function returns\n",
    "0 and 1 are indexes of each coordinate of the location\n",
    "\"\"\"\n",
    "def heuristicManhattan(current_location, goal):\n",
    "    result = abs(goal[0] - current_location[0]) + abs(goal[1] - current_location[1])\n",
    "\n",
    "    return result\n",
    "\n",
    "\"\"\"\n",
    "abs() :A Python function that returns the absolute value\n",
    "\"\"\""
   ]
  },
  {
   "cell_type": "markdown",
   "id": "0308f64f-3617-45d7-9227-6d9fe7793b4b",
   "metadata": {
    "collapsed": false
   },
   "source": [
    "#### Euclidean distance:\n",
    "    This distance is calculated by taking the square root of the sum of the differences between each coordinate of two points squared.\n",
    "##### Formula: $D_E(p, q) = \\sqrt{(p_x - q_x) ^ 2 + (p_y - q_y) ^ 2}$\n",
    "        Components of the formula above:\n",
    "* $D_E$: The Euclidean distance between the 2 points $p$ and $q$.\n",
    "* $p_x$: First coordinate of point $p$\n",
    "* $p_y$: Second coordinate of point $p$\n",
    "* $q_x$: First coordinate of point $q$\n",
    "* $q_y$: Second coordinate of point $q$\n",
    "##### Use case:\n",
    "    Euclidean distance is the shortest path between two points in Euclidean geometry, which the space in which we live belongs to. As such, the Euclidean distance is used to represent the realistic distance we encounter in reality, with features such as possible movements in any direction, with the inclusion of diagonals, making it ideal in fields such as robotics or computer graphics.\n",
    "##### Benefit:\n",
    "    Euclidean distance allows for movements to be uninterrupted and smooth, as aimed for in robots.\n",
    "##### Drawbacks:\n",
    "1. Due to the use of the $sqrt()$ (square root) operation in its formula, the calculation is more complex compared to that of other types of distance. This may result in a higher resource usage on a machine.\n",
    "2. It is also unsuitable for scenarios with a grid map where diagonal movements are impossible."
   ]
  },
  {
   "cell_type": "code",
   "execution_count": 3,
   "id": "52211ff0-fc92-46a5-ae57-7f7b483c478b",
   "metadata": {
    "collapsed": false
   },
   "outputs": [],
   "source": [
    "\"\"\"\n",
    "current_location :The current location of the drone\n",
    "goal :The destination the drone is trying to reach\n",
    "result :The value that the heuristic function returns\n",
    "0 and 1 are indexes of each coordinate of the location\n",
    "\"\"\"\n",
    "def heuristicEuclidean(current_location, goal):\n",
    "    result = ((goal[0] - current_location[0]) ** 2 + (goal[1] - current_location[1]) ** 2) ** (1 / 2)\n",
    "\n",
    "    return result"
   ]
  },
  {
   "cell_type": "markdown",
   "id": "f7f60bf3-ad38-4b00-8b07-6238d3269afb",
   "metadata": {
    "collapsed": false
   },
   "source": [
    "#### Chebyshev distance:\n",
    "    This distance is the maximum of the absolute differences of their coordinates.\n",
    "##### Formula: $D_C(p, q) = max(|p_x - q_x|, |p_y - q_y|)$\n",
    "    Components of the formula above:\n",
    "- $D_C$: The Chebyshev distance between the points $p$ and $q$.\n",
    "- $p_x$: First coordinate of point $p$\n",
    "- $p_y$: Second coordinate of point $p$\n",
    "- $q_x$: First coordinate of point $q$\n",
    "- $q_y$: Second coordinate of point $q$\n",
    "##### Use case:\n",
    "    Best for grid maps in which horizontal, vertical and diagonal movements are available, sometimes required in certain specific scenarios such as video games and simulations.\n",
    "##### Benefits:\n",
    "1. The Chebyshev distance is easy to put into use with a simple formula featuring only the $max()$ operation and the subtraction operation.\n",
    "2. The results provided are generally accurate.\n",
    "##### Drawbacks:\n",
    "1. Similar to its Manhattan counterpart, the Chebyshev distance is also unsuitable for calculating the distance in non-grid environments.\n",
    "2. Similar to its Euclidean counterpart, the Chebyshev distance is also unsuitable for calculating the distance in environments where diagonal movements are not allowed."
   ]
  },
  {
   "cell_type": "code",
   "execution_count": 4,
   "id": "38a374ac-1ca9-47f3-b780-61ea8a349294",
   "metadata": {
    "collapsed": false
   },
   "outputs": [
    {
     "data": {
      "text/plain": [
       "'\\nmax() :A Python function that returns the maximum value out of the values provided\\n'"
      ]
     },
     "execution_count": 4,
     "metadata": {},
     "output_type": "execute_result"
    }
   ],
   "source": [
    "\"\"\"\n",
    "current_location :The current location of the drone\n",
    "goal :The destination the drone is trying to reach\n",
    "result :The value that the heuristic function returns\n",
    "0 and 1 are indexes of each coordinate of the location\n",
    "\"\"\"\n",
    "def heuristicChebyshev(current_location, goal):\n",
    "    result = max(goal[0] - current_location[0], goal[1] - current_location[1])\n",
    "\n",
    "    return result\n",
    "\n",
    "\"\"\"\n",
    "max() :A Python function that returns the maximum value out of the values provided\n",
    "\"\"\""
   ]
  },
  {
   "cell_type": "markdown",
   "id": "8776bd25-73a3-45e3-b267-068e34d07e80",
   "metadata": {
    "collapsed": false
   },
   "source": [
    "#### Selecting the appropriate function:\n",
    "    Between the heuristic functions listed above, the heuristic selected is the Manhattan variation. This distance is chosen due to grid formation of the map, which limits the viable selection down to the Manhattan and Chebyshev distances. Between the two, the Chebyshev heuristic is picked as it accounts for diagonal movements, such as the real-life movement of the drone, better than the Manhattan heuristic."
   ]
  },
  {
   "cell_type": "markdown",
   "id": "f75f1c85-d209-4322-908f-23f29aa14524",
   "metadata": {
    "collapsed": false
   },
   "source": [
    "### 3. A* Implementation:\n",
    "    The A* search algorithm is implemented in Python as below, with each step explained via comments:"
   ]
  },
  {
   "cell_type": "code",
   "execution_count": 5,
   "id": "5dcb19b9-4dd3-471e-b541-7eee523e30e2",
   "metadata": {
    "collapsed": false
   },
   "outputs": [],
   "source": [
    "#Import the heap queue data structure to use for the open list, the open list is explained further below.\n",
    "import heapq\n",
    "'''\n",
    "Define a function named `a_star` which implements the A* search algorithm.\n",
    "It takes three arguments: The city map, the starting location of the drone and a tuple of the delivery locations.\n",
    "'''\n",
    "def a_star(city_map, starting_location, delivery_location, heuristic):\n",
    "    \"\"\"\n",
    "    The open list is a list of possible tiles that the drone may move to.\n",
    "    The closed set is a set of tiles that the drones have already passed on its way to the destination.\n",
    "    \"\"\"\n",
    "    #Initialize the open list as an empty priority queue:\n",
    "    open_list = []\n",
    "    #Initialize the closed list as an empty list:\n",
    "    closed_list = []\n",
    "    \"\"\"\n",
    "    An f_score is the distance from the starting location to the goal.\n",
    "    It is the sum of the g_score with the heuristic of that location and the delivery location.\n",
    "    The g_score is the steps from the starting location to the current location.\n",
    "    The f_score of the starting location is the same as its heuristic, as its g_score is 0.\n",
    "    Said f_score is inserted into the heap queue open_list:\n",
    "    \"\"\"\n",
    "    heapq.heappush(open_list, (heuristic(starting_location, delivery_location), starting_location))\n",
    "    #The tiles that have been traversed to reach the `delivery_location`, as represented by a dictionary which is initially empty:\n",
    "    history = {}\n",
    "    #The `history` dictionary will contain key-value pairs in which the values are the locations reached while the keys are the locations where the corresponding values were reached.\n",
    "    \"\"\"\n",
    "    g_score :A dictionary containing g_scores.\n",
    "    It is initialized with the key-value pair `starting_location: 0` to represent the distance of 0 between the starting location and itself.\n",
    "    \"\"\"\n",
    "    g_score = {starting_location: 0}\n",
    "    #A dictionary of f_scores:\n",
    "    f_score = {starting_location: heuristic(starting_location, delivery_location)}\n",
    "\n",
    "    #Keep running the following block of code if `open_list` is not empty:\n",
    "    while open_list:\n",
    "        #Extract the current location from the tuple with the lowest f_score stored in the open_list using heapq.heappop():\n",
    "        _, current_location = heapq.heappop(open_list)\n",
    "        #Check if the current location is the delivery location:\n",
    "        if current_location == delivery_location:\n",
    "            #Create an empty list `path` to store the return value of the `a_star` function:\n",
    "            path = []\n",
    "            #Traverse the locations visited in the `history` dictionary:\n",
    "            while current_location in history:\n",
    "                #Add the current location to `path` which will be returned:\n",
    "                path.append(current_location)\n",
    "                #Go to the previous location (the corresponding key in the `history` dictionary):\n",
    "                current_location = history[current_location]\n",
    "            #Add the initial location to the path:\n",
    "            path.append(starting_location)\n",
    "            #As the locations were added from the destination back to the start to the list, we need to reverse the list:\n",
    "            path.reverse()\n",
    "            #Store the results, including the path, the drone's location after delivery, the `open_list` and the `closed_list` variables as a tuple:\n",
    "            results = (path, list(delivery_location), open_list, closed_list)\n",
    "            #Return the results:\n",
    "            return results\n",
    "        #Since the current location is not the destination, it is added to the closed list:\n",
    "        closed_list.append(current_location)\n",
    "        \n",
    "        #A list all neighbouring tiles for the algorithm to evaluate (the possible movements of the drone):\n",
    "        neighbours = [(-1, 0), (0, -1), (0, 1), (1, 0), (1, -1), (-1, -1), (-1, 1), (1, 1)]\n",
    "        \"\"\"\n",
    "        dx, dy :The steps in the two directions that the current location can take, also known as tuple of values in the above list\n",
    "        for..in loop to traverse the locations:\n",
    "        \"\"\"\n",
    "        for dx, dy in neighbours:\n",
    "            #Create a neighbour which offsets from the current location by one tile:\n",
    "            neighbour = (current_location[0] + dx, current_location[1] + dy)\n",
    "            \"\"\"\n",
    "            Conditions:\n",
    "            0 <= neighbour[0] < len(city_map) :Check if the neighbour is inside the map\n",
    "            0 <= neighbour[1] < len(city_map[1]) :Also check if the neighbour is inside the map, but the other direction\n",
    "            city_map[neighbour[0][neighbour[1]]] == 0 :Check if the neighbour is an obstacle\n",
    "            neighbour not in closed_list :Check if the neighbour has already been visited, preventing unecessary backtracking\n",
    "            \"\"\"\n",
    "            if 0 <= neighbour[0] < len(city_map) and 0 <= neighbour[1] < len(city_map[0]) and city_map[neighbour[0]][neighbour[1]] == 0 and neighbour not in closed_list:\n",
    "                #Get the steps required to reach the neighbour as the variable `tentative g_score`:\n",
    "                tentative_g_score = g_score[current_location] + 1\n",
    "                #Check if neighbour has already been visited or if its g_score is lower than the current lowest g_score:\n",
    "                if neighbour not in g_score or tentative_g_score < g_score[neighbour]:\n",
    "                    #Record where we came from in `history`:\n",
    "                    history[neighbour] = current_location\n",
    "                    #Update the lowest g_score of the neighbours:\n",
    "                    g_score[neighbour] = tentative_g_score\n",
    "                    #Update the lowest f_score of the neighbours:\n",
    "                    f_score[neighbour] = tentative_g_score + heuristic(neighbour, delivery_location)\n",
    "                    #Push the f_score of the neighbour onto the `open_list`:\n",
    "                    heapq.heappush(open_list, (f_score[neighbour], neighbour))\n",
    "\n",
    "    #If no path is found, return None:\n",
    "    return None"
   ]
  },
  {
   "cell_type": "markdown",
   "id": "7798431e-4e36-45c1-b240-09ce90bd05db",
   "metadata": {
    "collapsed": false
   },
   "source": [
    "### 4. Evaluation:\n",
    "* Let $b$ be the number of neighbouring nodes.\n",
    "* Let $d$ be the number of steps from the start to the goal.\n",
    "#### Time efficiency of A*:\n",
    "    Worst case scenario, the time efficiency of A* is $O(b^d)$, which means, every single neighbour is visited on the way from the start to the destination. This can occur with ludicrously horrible heuristic functions.\n",
    "    On the other end of extremity, A* will only visit the nodes on the path, resulting in an $O(d)$ time efficiency, with a perfect heuristic function.\n",
    "    Realistically, the performance of A* is between these two extremes, depending mostly on the accuracy of the heuristic function.\n",
    "#### Space efficiency of A*:\n",
    "Due to A* storing all neighbouring as well as path nodes in memory, the space complexity in the worst case can be $O(b^d)$, meaning, as the path length increases, the amount of memory used grows exponentially, making A* unsuitable for path-finding on a large scale.\n",
    "#### The path cost:\n",
    "    The path cost of the solution is the sum of the steps required to make movements from the starting location to the destination, along the optimal path returned by the algorithm.\n",
    "    The path cost would then be the length of the path subtracted by 1."
   ]
  },
  {
   "cell_type": "code",
   "execution_count": 6,
   "id": "881293ac-786a-4522-90e7-766c222a715c",
   "metadata": {
    "collapsed": false
   },
   "outputs": [],
   "source": [
    "#Function to output the path cost based on the results:\n",
    "def print_path_cost(results):\n",
    "    #Check for valid `results`:\n",
    "    if results:\n",
    "        \"\"\"\n",
    "        results[0] :The path\n",
    "        results[1] :The current location of the drone after the delivery\n",
    "        \"\"\"\n",
    "        #Change the starting location of the drone for the next delivery:\n",
    "        last_location = results[1]\n",
    "        #Store the returned path as a variable:\n",
    "        path = results[0]\n",
    "        #Print the path cost:\n",
    "        print(len(path) - 1)\n",
    "    #Output an empty line to separate:\n",
    "    print()"
   ]
  },
  {
   "cell_type": "markdown",
   "id": "2c0611a1-4198-4cd9-9f4a-2585786382fc",
   "metadata": {
    "collapsed": false
   },
   "source": [
    "#### Printing the path:\n",
    "    Path printing is performed on 3 city maps in the following function.\n",
    "    The `*` characters as visualization of the path.\n",
    "    The `S` characters as visualization of the starting location for a delivery process.\n",
    "    The `E` characters as the destination for that delivery process."
   ]
  },
  {
   "cell_type": "code",
   "execution_count": 7,
   "id": "38d005b8-8699-4bd1-a526-911fe574365c",
   "metadata": {
    "collapsed": false
   },
   "outputs": [],
   "source": [
    "#Import the deepcopy feature to be used:\n",
    "import copy\n",
    "#Path mapping function, takes 2 parameters: The city map and the path obtained from a_star.\n",
    "def map_delivery_process(city_map, path):\n",
    "    #Make a copy of the city map, `deepcopy()` is necessary due to the original `city_map` contains nested lists:\n",
    "    \"\"\"\n",
    "    `copy_of_city_map` is a copy of the given city map on which the path will be displayed with asterisks.\n",
    "    \"\"\"\n",
    "    copy_of_city_map = copy.deepcopy(city_map)\n",
    "    #Output the delivery number:\n",
    "    print(f\"    *  Delivery map for delivery number {index + 1}:\")\n",
    "    \"\"\"\n",
    "    The path taken is marked with the \"*\" (asterisk) character\n",
    "    The starting location is marked with the \"S\" character\n",
    "    The destination is marked with the \"E\" character\n",
    "    \"\"\"\n",
    "    #for..in loop accessing each location on the path taken:\n",
    "    for step in path:\n",
    "        #Mark the taken step with an asterisk:\n",
    "        copy_of_city_map[step[0]][step[1]] = \"*\"\n",
    "        #Check if the current location is the starting location:\n",
    "        if step == path[0]:\n",
    "            #Mark it with the letter \"S\":\n",
    "            copy_of_city_map[step[0]][step[1]] = \"S\"\n",
    "        #Check if the current location is the final location:\n",
    "        if step == path[-1]:\n",
    "            #Mark it with the letter \"E\":\n",
    "            copy_of_city_map[step[0]][step[1]] = \"E\"\n",
    "    #Return the copy of the map:\n",
    "    return copy_of_city_map"
   ]
  },
  {
   "cell_type": "markdown",
   "id": "13204c9a-4b4b-4bbf-922d-ddcfcfa43cdc",
   "metadata": {
    "collapsed": false
   },
   "source": [
    "##### TKinter:\n",
    "    TKinter is the standard GUI toolkit for Python. We use it in order to print out the array created in the function above.\n",
    "    Our implementation features a canvas placed inside a window that contains the city map with differently-coloured tiles to represent the different types of movements on the map."
   ]
  },
  {
   "cell_type": "code",
   "execution_count": 8,
   "id": "84f13f65-0e6d-4e96-83f0-3aab65b94b6b",
   "metadata": {
    "collapsed": false
   },
   "outputs": [],
   "source": [
    "#Import the `tkinter` package:\n",
    "import tkinter\n",
    "#The path printing function, taking the map with the imprinted path and the canvas on which the map will be displayed as parameters:\n",
    "def print_delivery_process(canvas, city_map):\n",
    "    #Get the number of rows:\n",
    "    rows = len(city_map)\n",
    "    #Get the number of columns:\n",
    "    columns = len(city_map[0])\n",
    "    #Set the size of each cell in the map:\n",
    "    size = 40\n",
    "\n",
    "    #For..in loop to loop over every row:\n",
    "    for row in range(rows):\n",
    "        #For..in loop to loop over every column:\n",
    "        for column in range(columns):\n",
    "            #Create a corner of the GUI:\n",
    "            corner_1 = column * size\n",
    "            #Create another corner of the GUI:\n",
    "            corner_2 = row * size\n",
    "            #Create yet another corner of the GUI:\n",
    "            corner_3 = corner_1 + size\n",
    "            #Create the final corner of the GUI:\n",
    "            corner_4 = corner_2 + size\n",
    "            #Set the default colour of the letter on the tile:\n",
    "            letter_colour = \"\"\n",
    "            #Check if the tile is passable:\n",
    "            if city_map[row][column] == 0:\n",
    "                #Set the colours of passable tiles:\n",
    "                colour = \"black\"\n",
    "            #Check if the tile isn't passable:\n",
    "            elif city_map[row][column] == 1:\n",
    "                #Set the colours of unpassable tiles:\n",
    "                colour = \"lightgray\"\n",
    "            #Check if the tile is the starting location:\n",
    "            elif city_map[row][column] == \"S\":\n",
    "                #Set the colour of the starting location's tile:\n",
    "                colour = \"blue\"\n",
    "                #Set the colour of the letter on the tile:\n",
    "                letter_colour = \"yellow\"\n",
    "            #Check if the tile is the destination:\n",
    "            elif city_map[row][column] == \"E\":\n",
    "                #Set the colour of the destination's tile:\n",
    "                colour = \"yellow\"\n",
    "                #Set the colour of the letter on the tile:\n",
    "                letter_colour = \"blue\"\n",
    "            #The tile can only be a path tile:\n",
    "            else:\n",
    "                #Set the colour of the path tile:\n",
    "                colour = \"slategray\"\n",
    "            #Create the tile:\n",
    "            canvas.create_rectangle(corner_1, corner_2, corner_3, corner_4, fill = colour, outline = \"green\")\n",
    "            #Place a letter on the tile, if there is one:\n",
    "            canvas.create_text((corner_1 + corner_3) / 2, (corner_2 + corner_4) / 2, text=city_map[row][column], fill = letter_colour, font = (\"Garamond\", 20))"
   ]
  },
  {
   "cell_type": "code",
   "execution_count": 9,
   "id": "e02dd7ad-25af-4ecc-a757-6415f1a38e86",
   "metadata": {
    "collapsed": false
   },
   "outputs": [
    {
     "name": "stdout",
     "output_type": "stream",
     "text": [
      "   The delivery process for city map 1:\n",
      "    *  Delivery map for delivery number 1:\n"
     ]
    },
    {
     "name": "stdout",
     "output_type": "stream",
     "text": [
      "\t   The number of neighbouring nodes explored: 3\n",
      "\t   The number of coordinates sets visited (excluding the final destination of this delivery): 4\n",
      "\t   The path cost for delivery 1: 4\n",
      "\n",
      "    *  Delivery map for delivery number 2:\n"
     ]
    },
    {
     "name": "stdout",
     "output_type": "stream",
     "text": [
      "\t   The number of neighbouring nodes explored: 5\n",
      "\t   The number of coordinates sets visited (excluding the final destination of this delivery): 1\n",
      "\t   The path cost for delivery 2: 1\n",
      "\n",
      "    *  There are no valid paths for delivery number 3.\n",
      "\n",
      "\n",
      "   The delivery process for city map 2:\n",
      "    *  Delivery map for delivery number 1:\n"
     ]
    },
    {
     "name": "stdout",
     "output_type": "stream",
     "text": [
      "\t   The number of neighbouring nodes explored: 13\n",
      "\t   The number of coordinates sets visited (excluding the final destination of this delivery): 20\n",
      "\t   The path cost for delivery 1: 10\n",
      "\n",
      "    *  There are no valid paths for delivery number 2.\n",
      "\n",
      "    *  Delivery map for delivery number 3:\n"
     ]
    },
    {
     "name": "stdout",
     "output_type": "stream",
     "text": [
      "\t   The number of neighbouring nodes explored: 3\n",
      "\t   The number of coordinates sets visited (excluding the final destination of this delivery): 10\n",
      "\t   The path cost for delivery 3: 4\n",
      "\n",
      "\n",
      "   The delivery process for city map 3:\n",
      "    *  There are no valid paths for delivery number 1.\n",
      "\n",
      "    *  Delivery map for delivery number 2:\n"
     ]
    },
    {
     "name": "stdout",
     "output_type": "stream",
     "text": [
      "\t   The number of neighbouring nodes explored: 26\n",
      "\t   The number of coordinates sets visited (excluding the final destination of this delivery): 44\n",
      "\t   The path cost for delivery 2: 17\n",
      "\n",
      "    *  Delivery map for delivery number 3:\n"
     ]
    },
    {
     "name": "stdout",
     "output_type": "stream",
     "text": [
      "\t   The number of neighbouring nodes explored: 8\n",
      "\t   The number of coordinates sets visited (excluding the final destination of this delivery): 45\n",
      "\t   The path cost for delivery 3: 4\n",
      "\n",
      "\n"
     ]
    }
   ],
   "source": [
    "#for..in loop to loop over each flight/city map:\n",
    "for city_map, delivery_location in enumerate(delivery_locations):\n",
    "    #Reset the last location to its origin:\n",
    "    last_location = [0, 0]\n",
    "    #Let the user know that below is the delivery process for each city map:\n",
    "    print(f\"   The delivery process for city map {city_map + 1}:\")\n",
    "    #for..in loop to go through each delivery location and perform evaluations on them:\n",
    "    for index, delivery_location in enumerate(delivery_locations[city_map]):\n",
    "        #Get the tuple version of the `last_location` list and store it as a variable:\n",
    "        starting_location = tuple(last_location)\n",
    "        #Calculate and obtain the path using the a_star algorithm with the selected Chebyshev heuristic:\n",
    "        results = a_star(city_maps[city_map], starting_location, delivery_location, heuristicChebyshev)\n",
    "        #Check if `results` exists:\n",
    "        if results:\n",
    "            \"\"\"\n",
    "            results[0] :The path\n",
    "            results[1] :The current location of the drone after the delivery\n",
    "            results[2] :The length of `open_list`\n",
    "            results[3] :The length of `closed_set`\n",
    "            \"\"\"\n",
    "            #Change the starting location of the next delivery:\n",
    "            last_location = results[1]\n",
    "            #Map the path of the delivery process:\n",
    "            current_map = map_delivery_process(city_maps[city_map], results[0])\n",
    "            \n",
    "            #Create the window:\n",
    "            window = tkinter.Tk()\n",
    "            #Set the name of the window, which contains the delivery number and the map number:\n",
    "            window.title(f\"Delivery map for delivery {index + 1}, map {city_map + 1}\")\n",
    "            #Define the height of each cell in a canvas:\n",
    "            rows = len(city_maps[city_map])\n",
    "            #Define the width of each cell in the canvas:\n",
    "            columns = len(city_maps[city_map][0])\n",
    "            #Define the size of each canvas cell:\n",
    "            size = 40\n",
    "            #Define the width of the canvas:\n",
    "            canvas_width = columns * size\n",
    "            #Define the height of the canvas:\n",
    "            canvas_height = rows * size\n",
    "            #Create the canvas:\n",
    "            canvas = tkinter.Canvas(window, width=canvas_width, height=canvas_height)\n",
    "            #Arrange the canvas in the window, `expand=True` centers the canvas inside the window:\n",
    "            canvas.pack(expand=True)\n",
    "            #Print the delivery process:\n",
    "            print_delivery_process(canvas, current_map)\n",
    "            #Start and keep the GUI open:\n",
    "            window.mainloop()\n",
    "            \"\"\"\n",
    "            The colour of the border of each tile: \"green\"\n",
    "            The colour of passable tiles: \"black\"\n",
    "            The colour of non-passable tiles: \"lightgray\"\n",
    "            The colour of the starting location: \"blue\"\n",
    "            The colour of the destination: \"yellow\"\n",
    "            The colour of the path: \"slategray\"\n",
    "            \"\"\"\n",
    "\n",
    "            #Output the length of the open list:\n",
    "            print(f\"\\t   The number of neighbouring nodes explored: {len(results[2])}\")\n",
    "            #Output the length of the visited nodes:\n",
    "            print(f\"\\t   The number of coordinates sets visited (excluding the final destination of this delivery): {len(results[3])}\")\n",
    "            #Let the user know that the next value to be printed out is the path cost:\n",
    "            print(f\"\\t   The path cost for delivery {index + 1}:\", end = \" \")\n",
    "            #Output the path cost for each delivery:\n",
    "            print_path_cost(results)\n",
    "        #In case no paths can be found:\n",
    "        else:\n",
    "            #Print out to the screen an error message for being unable find a path to a specific location, along with the delivery number:\n",
    "            print(f\"    *  There are no valid paths for delivery number {index + 1}.\\n\")\n",
    "    #Output an empty line to separate the two test cases:\n",
    "    print()\n"
   ]
  },
  {
   "cell_type": "markdown",
   "id": "e83791d0-9f5d-4ac9-becb-73462466da75",
   "metadata": {
    "collapsed": false
   },
   "source": [
    "    From the results above, we can see that the path cost increases with the distance between the starting location and the destination for each delivery.\n",
    "    A higher map size allows for a higher distance between the destination and the starting location, which may increase the path cost in certain scenarios where the two points are distant from each other; however, this is not always true if the two locations are close to one another for every map.\n",
    "    The length of the closed list increases along with the size of the map; the length of the open list is larger, the further away the destination is from the starting location. The larger the map, the larger the difference in the sizes of the closed list and the open list."
   ]
  },
  {
   "cell_type": "markdown",
   "id": "d910318d-589a-4fd8-9cc6-7047ac51a3f2",
   "metadata": {
    "collapsed": false
   },
   "source": [
    "#### Comparisons between the heuristic functions:\n",
    "    This is done by declaring a delivery location on a map and run `a_star` on that map with each of the heuristic function, the path cost, the length of the open list and the length of the closed list is recorded for each heuristic."
   ]
  },
  {
   "cell_type": "code",
   "execution_count": 10,
   "id": "c2ee9ed1-72aa-4dff-ad5a-a091cf3d55a2",
   "metadata": {
    "collapsed": false
   },
   "outputs": [
    {
     "name": "stdout",
     "output_type": "stream",
     "text": [
      "The number of neighbouring nodes explored: 35\n",
      "The number of coordinates sets visited: 25\n",
      "The total number of nodes the algorithm touched: 60\n",
      "The path cost for the Manhattan heuristic function: 22\n",
      "\n",
      "The number of neighbouring nodes explored: 37\n",
      "The number of coordinates sets visited: 28\n",
      "The total number of nodes the algorithm touched: 65\n",
      "The path cost for the Euclidean heuristic function: 22\n",
      "\n",
      "The number of neighbouring nodes explored: 34\n",
      "The number of coordinates sets visited: 76\n",
      "The total number of nodes the algorithm touched: 110\n",
      "The path cost for the Chebyshev heuristic function: 22\n",
      "\n"
     ]
    }
   ],
   "source": [
    "#Declare delivery location for the third city map:\n",
    "delivery_location = (17, 19)\n",
    "#Declare a tuple with the heuristic functions as its components:\n",
    "heuristicFunctions = {\n",
    "    #The string \"Manhattan\" as the key, the `heuristicManhattan()` function as the value:\n",
    "    \"Manhattan\": heuristicManhattan,\n",
    "    #The string \"Euclidean\" as the key, the `heuristicEuclidean()` function as the value:\n",
    "    \"Euclidean\": heuristicEuclidean,\n",
    "    #The string \"Chebyshev\" as the key, the `heuristicChebyshev()` function as the value:\n",
    "    \"Chebyshev\": heuristicChebyshev\n",
    "}\n",
    "\n",
    "for distance in heuristicFunctions:\n",
    "    #Reset the last location to the origin:\n",
    "    last_location = [0, 0]\n",
    "    #Declare starting location:\n",
    "    starting_location = tuple(last_location)\n",
    "    #Perform pathfinding on the 3rd city map:\n",
    "    results = a_star(city_maps[2], starting_location, delivery_location, heuristicFunctions[distance])\n",
    "    #Output the length of the open list:\n",
    "    print(f\"The number of neighbouring nodes explored: {len(results[2])}\")\n",
    "    #Output the length of the visited nodes:\n",
    "    print(f\"The number of coordinates sets visited: {len(results[3])}\")\n",
    "    #Output the total number of nodes visited:\n",
    "    print(f\"The total number of nodes the algorithm touched: {len(results[2]) + len(results[3])}\")\n",
    "    #Let the user know that the following value is the path cost for a heuristic:\n",
    "    print(f\"The path cost for the {distance} heuristic function:\", end = \" \")\n",
    "    #Output the path cost for the heuristic:\n",
    "    print_path_cost(results)"
   ]
  },
  {
   "cell_type": "markdown",
   "id": "b4aa94dd-ade1-4903-9a34-8c641a4fbfa1",
   "metadata": {
    "collapsed": false
   },
   "source": [
    "From the results above, we can see that the Manhattan performs the best out of the three for this specific situation with the smallest open list as well as closed list."
   ]
  }
 ],
 "metadata": {
  "kernelspec": {
   "argv": [
    "C:/Users/Vo Huy Chu/scoop/apps/anaconda3_AStupidBear/5.2.0/envs/course_2968\\python.exe",
    "-m",
    "ipykernel_launcher",
    "-f",
    "{connection_file}"
   ],
   "display_name": "Python 3 (ipykernel)",
   "env": null,
   "interrupt_mode": "signal",
   "language": "python",
   "metadata": {
    "debugger": false
   },
   "name": "python3"
  },
  "language_info": {
   "codemirror_mode": {
    "name": "ipython",
    "version": 3
   },
   "file_extension": ".py",
   "mimetype": "text/x-python",
   "name": "python",
   "nbconvert_exporter": "python",
   "pygments_lexer": "ipython3",
   "version": "3.12.4"
  },
  "name": "option_a.ipynb"
 },
 "nbformat": 4,
 "nbformat_minor": 2
}
